{
 "cells": [
  {
   "cell_type": "code",
   "execution_count": 0,
   "metadata": {
    "application/vnd.databricks.v1+cell": {
     "cellMetadata": {
      "byteLimit": 2048000,
      "rowLimit": 10000
     },
     "inputWidgets": {},
     "nuid": "3f090564-f119-4baf-8d4e-2f85b483803a",
     "showTitle": false,
     "tableResultSettingsMap": {},
     "title": ""
    }
   },
   "outputs": [
    {
     "output_type": "stream",
     "name": "stdout",
     "output_type": "stream",
     "text": [
      "+------+--------------+----------+----------+--------------+-----------+---------------+---------+-------------+---------------+----------+-----------+------+---------------+---------------+------------+--------------------+--------+--------+--------+--------+\n|Row ID|      Order ID|Order Date| Ship Date|     Ship Mode|Customer ID|  Customer Name|  Segment|      Country|           City|     State|Postal Code|Region|     Product ID|       Category|Sub-Category|        Product Name|   Sales|Quantity|Discount|  Profit|\n+------+--------------+----------+----------+--------------+-----------+---------------+---------+-------------+---------------+----------+-----------+------+---------------+---------------+------------+--------------------+--------+--------+--------+--------+\n|     1|CA-2016-152156|2016-11-08|2016-11-11|  Second Class|   CG-12520|    Claire Gute| Consumer|United States|      Henderson|  Kentucky|      42420| South|FUR-BO-10001798|      Furniture|   Bookcases|Bush Somerset Col...|  261.96|       2|       0| 41.9136|\n|     2|CA-2016-152156|2016-11-08|2016-11-11|  Second Class|   CG-12520|    Claire Gute| Consumer|United States|      Henderson|  Kentucky|      42420| South|FUR-CH-10000454|      Furniture|      Chairs|Hon Deluxe Fabric...|  731.94|       3|       0| 219.582|\n|     3|CA-2016-138688|2016-06-12|2016-06-16|  Second Class|   DV-13045|Darrin Van Huff|Corporate|United States|    Los Angeles|California|      90036|  West|OFF-LA-10000240|Office Supplies|      Labels|Self-Adhesive Add...|   14.62|       2|       0|  6.8714|\n|     4|US-2015-108966|2015-10-11|2015-10-18|Standard Class|   SO-20335| Sean O'Donnell| Consumer|United States|Fort Lauderdale|   Florida|      33311| South|FUR-TA-10000577|      Furniture|      Tables|Bretford CR4500 S...|957.5775|       5|    0.45|-383.031|\n|     5|US-2015-108966|2015-10-11|2015-10-18|Standard Class|   SO-20335| Sean O'Donnell| Consumer|United States|Fort Lauderdale|   Florida|      33311| South|OFF-ST-10000760|Office Supplies|     Storage|Eldon Fold 'N Rol...|  22.368|       2|     0.2|  2.5164|\n+------+--------------+----------+----------+--------------+-----------+---------------+---------+-------------+---------------+----------+-----------+------+---------------+---------------+------------+--------------------+--------+--------+--------+--------+\nonly showing top 5 rows\n\n"
     ]
    }
   ],
   "source": [
    "csv_path = \"dbfs:/FileStore/shared_uploads/letebrhan@gmail.com/sales_data.csv\"  # change to your path\n",
    "\n",
    "df = spark.read.option(\"header\", \"true\").csv(csv_path, inferSchema=True)\n",
    "df.show(5)\n"
   ]
  },
  {
   "cell_type": "code",
   "execution_count": 0,
   "metadata": {
    "application/vnd.databricks.v1+cell": {
     "cellMetadata": {
      "byteLimit": 2048000,
      "rowLimit": 10000
     },
     "inputWidgets": {},
     "nuid": "04b97a89-6107-431a-8aef-40853736f7e0",
     "showTitle": false,
     "tableResultSettingsMap": {},
     "title": ""
    }
   },
   "outputs": [
    {
     "output_type": "stream",
     "name": "stdout",
     "output_type": "stream",
     "text": [
      "root\n |-- Row_ID: integer (nullable = true)\n |-- Order_ID: string (nullable = true)\n |-- Order_Date: date (nullable = true)\n |-- Ship_Date: date (nullable = true)\n |-- Ship_Mode: string (nullable = true)\n |-- Customer_ID: string (nullable = true)\n |-- Customer_Name: string (nullable = true)\n |-- Segment: string (nullable = true)\n |-- Country: string (nullable = true)\n |-- City: string (nullable = true)\n |-- State: string (nullable = true)\n |-- Postal_Code: integer (nullable = true)\n |-- Region: string (nullable = true)\n |-- Product_ID: string (nullable = true)\n |-- Category: string (nullable = true)\n |-- SubCategory: string (nullable = true)\n |-- Product_Name: string (nullable = true)\n |-- Sales: string (nullable = true)\n |-- Quantity: string (nullable = true)\n |-- Discount: string (nullable = true)\n |-- Profit: double (nullable = true)\n\n"
     ]
    }
   ],
   "source": [
    "import re\n",
    "\n",
    "# Clean and rename all column names\n",
    "df_clean = df.toDF(*[re.sub(r'[^A-Za-z0-9_]', '', c.replace(' ', '_')) for c in df.columns])\n",
    "df_clean.printSchema()\n"
   ]
  },
  {
   "cell_type": "code",
   "execution_count": 0,
   "metadata": {
    "application/vnd.databricks.v1+cell": {
     "cellMetadata": {
      "byteLimit": 2048000,
      "rowLimit": 10000
     },
     "inputWidgets": {},
     "nuid": "367c3337-ac11-4df5-ac30-77be96e5b73d",
     "showTitle": false,
     "tableResultSettingsMap": {},
     "title": ""
    }
   },
   "outputs": [],
   "source": [
    "# Drop rows with null sales or order dates\n",
    "df_clean = df_clean.dropna(subset=[\"Sales\", \"Order_Date\"])\n"
   ]
  },
  {
   "cell_type": "code",
   "execution_count": 0,
   "metadata": {
    "application/vnd.databricks.v1+cell": {
     "cellMetadata": {
      "byteLimit": 2048000,
      "rowLimit": 10000
     },
     "inputWidgets": {},
     "nuid": "d71dc40d-9c06-4d43-9407-d8220a2cb0cc",
     "showTitle": false,
     "tableResultSettingsMap": {},
     "title": ""
    }
   },
   "outputs": [],
   "source": [
    "# Add Derived Columns\n",
    "\n",
    "from pyspark.sql.functions import to_date, month, year\n",
    "\n",
    "df_clean = df_clean.withColumn(\"Order_Date\", to_date(\"Order_Date\", \"MM/dd/yyyy\"))\n",
    "df_clean = df_clean.withColumn(\"Order_Year\", year(\"Order_Date\"))\n",
    "df_clean = df_clean.withColumn(\"Order_Month\", month(\"Order_Date\"))\n"
   ]
  },
  {
   "cell_type": "code",
   "execution_count": 0,
   "metadata": {
    "application/vnd.databricks.v1+cell": {
     "cellMetadata": {
      "byteLimit": 2048000,
      "rowLimit": 10000
     },
     "inputWidgets": {},
     "nuid": "a714b5ca-3fee-4104-afdb-6d1386101d02",
     "showTitle": false,
     "tableResultSettingsMap": {},
     "title": ""
    }
   },
   "outputs": [],
   "source": [
    "# Save Cleaned DataFrame Temporarily\n",
    "df_clean.write.mode(\"overwrite\").parquet(\"/tmp/superstore_cleaned\")\n"
   ]
  },
  {
   "cell_type": "code",
   "execution_count": 0,
   "metadata": {
    "application/vnd.databricks.v1+cell": {
     "cellMetadata": {
      "byteLimit": 2048000,
      "rowLimit": 10000
     },
     "inputWidgets": {},
     "nuid": "910dfe55-0d85-4f9f-a75d-82800a436cfe",
     "showTitle": false,
     "tableResultSettingsMap": {},
     "title": ""
    }
   },
   "outputs": [
    {
     "output_type": "stream",
     "name": "stdout",
     "output_type": "stream",
     "text": [
      "+------+--------------+----------+----------+--------------+-----------+---------------+---------+-------------+---------------+----------+-----------+------+---------------+---------------+-----------+--------------------+--------+--------+--------+--------+----------+-----------+\n|Row_ID|      Order_ID|Order_Date| Ship_Date|     Ship_Mode|Customer_ID|  Customer_Name|  Segment|      Country|           City|     State|Postal_Code|Region|     Product_ID|       Category|SubCategory|        Product_Name|   Sales|Quantity|Discount|  Profit|Order_Year|Order_Month|\n+------+--------------+----------+----------+--------------+-----------+---------------+---------+-------------+---------------+----------+-----------+------+---------------+---------------+-----------+--------------------+--------+--------+--------+--------+----------+-----------+\n|     1|CA-2016-152156|2016-11-08|2016-11-11|  Second Class|   CG-12520|    Claire Gute| Consumer|United States|      Henderson|  Kentucky|      42420| South|FUR-BO-10001798|      Furniture|  Bookcases|Bush Somerset Col...|  261.96|       2|       0| 41.9136|      2016|         11|\n|     2|CA-2016-152156|2016-11-08|2016-11-11|  Second Class|   CG-12520|    Claire Gute| Consumer|United States|      Henderson|  Kentucky|      42420| South|FUR-CH-10000454|      Furniture|     Chairs|Hon Deluxe Fabric...|  731.94|       3|       0| 219.582|      2016|         11|\n|     3|CA-2016-138688|2016-06-12|2016-06-16|  Second Class|   DV-13045|Darrin Van Huff|Corporate|United States|    Los Angeles|California|      90036|  West|OFF-LA-10000240|Office Supplies|     Labels|Self-Adhesive Add...|   14.62|       2|       0|  6.8714|      2016|          6|\n|     4|US-2015-108966|2015-10-11|2015-10-18|Standard Class|   SO-20335| Sean O'Donnell| Consumer|United States|Fort Lauderdale|   Florida|      33311| South|FUR-TA-10000577|      Furniture|     Tables|Bretford CR4500 S...|957.5775|       5|    0.45|-383.031|      2015|         10|\n|     5|US-2015-108966|2015-10-11|2015-10-18|Standard Class|   SO-20335| Sean O'Donnell| Consumer|United States|Fort Lauderdale|   Florida|      33311| South|OFF-ST-10000760|Office Supplies|    Storage|Eldon Fold 'N Rol...|  22.368|       2|     0.2|  2.5164|      2015|         10|\n+------+--------------+----------+----------+--------------+-----------+---------------+---------+-------------+---------------+----------+-----------+------+---------------+---------------+-----------+--------------------+--------+--------+--------+--------+----------+-----------+\nonly showing top 5 rows\n\n"
     ]
    }
   ],
   "source": [
    "# Step 1: Load the Cleaned Data\n",
    "df_clean = spark.read.parquet(\"/tmp/superstore_cleaned\")\n",
    "\n",
    "# Step 2: Save as Delta Table\n",
    "df_clean.write.format(\"delta\").mode(\"overwrite\").save(\"/tmp/delta_superstore\")\n",
    "\n",
    "#  Step 3: Read and Display\n",
    "df_delta = spark.read.format(\"delta\").load(\"/tmp/delta_superstore\")\n",
    "df_delta.show(5)\n",
    "\n"
   ]
  },
  {
   "cell_type": "code",
   "execution_count": 0,
   "metadata": {
    "application/vnd.databricks.v1+cell": {
     "cellMetadata": {
      "byteLimit": 2048000,
      "rowLimit": 10000
     },
     "inputWidgets": {},
     "nuid": "73aea3f3-95ca-4afe-8e45-d0805fe45f2f",
     "showTitle": false,
     "tableResultSettingsMap": {},
     "title": ""
    }
   },
   "outputs": [
    {
     "output_type": "stream",
     "name": "stdout",
     "output_type": "stream",
     "text": [
      "+------+--------------+----------+----------+--------------+-----------+------------------+-----------+-------------+---------------+--------------+-----------+-------+---------------+---------------+-----------+--------------------+--------+--------+--------+--------+----------+-----------+\n|Row_ID|      Order_ID|Order_Date| Ship_Date|     Ship_Mode|Customer_ID|     Customer_Name|    Segment|      Country|           City|         State|Postal_Code| Region|     Product_ID|       Category|SubCategory|        Product_Name|   Sales|Quantity|Discount|  Profit|Order_Year|Order_Month|\n+------+--------------+----------+----------+--------------+-----------+------------------+-----------+-------------+---------------+--------------+-----------+-------+---------------+---------------+-----------+--------------------+--------+--------+--------+--------+----------+-----------+\n|     1|CA-2016-152156|2016-11-08|2016-11-11|  Second Class|   CG-12520|       Claire Gute|   Consumer|United States|      Henderson|      Kentucky|      42420|  South|FUR-BO-10001798|      Furniture|  Bookcases|Bush Somerset Col...|  261.96|       2|       0| 41.9136|      2016|         11|\n|     2|CA-2016-152156|2016-11-08|2016-11-11|  Second Class|   CG-12520|       Claire Gute|   Consumer|United States|      Henderson|      Kentucky|      42420|  South|FUR-CH-10000454|      Furniture|     Chairs|Hon Deluxe Fabric...|  731.94|       3|       0| 219.582|      2016|         11|\n|     3|CA-2016-138688|2016-06-12|2016-06-16|  Second Class|   DV-13045|   Darrin Van Huff|  Corporate|United States|    Los Angeles|    California|      90036|   West|OFF-LA-10000240|Office Supplies|     Labels|Self-Adhesive Add...|   14.62|       2|       0|  6.8714|      2016|          6|\n|     4|US-2015-108966|2015-10-11|2015-10-18|Standard Class|   SO-20335|    Sean O'Donnell|   Consumer|United States|Fort Lauderdale|       Florida|      33311|  South|FUR-TA-10000577|      Furniture|     Tables|Bretford CR4500 S...|957.5775|       5|    0.45|-383.031|      2015|         10|\n|     5|US-2015-108966|2015-10-11|2015-10-18|Standard Class|   SO-20335|    Sean O'Donnell|   Consumer|United States|Fort Lauderdale|       Florida|      33311|  South|OFF-ST-10000760|Office Supplies|    Storage|Eldon Fold 'N Rol...|  22.368|       2|     0.2|  2.5164|      2015|         10|\n|     6|CA-2014-115812|2014-06-09|2014-06-14|Standard Class|   BH-11710|   Brosina Hoffman|   Consumer|United States|    Los Angeles|    California|      90032|   West|FUR-FU-10001487|      Furniture|Furnishings|Eldon Expressions...|   48.86|       7|       0| 14.1694|      2014|          6|\n|     7|CA-2014-115812|2014-06-09|2014-06-14|Standard Class|   BH-11710|   Brosina Hoffman|   Consumer|United States|    Los Angeles|    California|      90032|   West|OFF-AR-10002833|Office Supplies|        Art|          Newell 322|    7.28|       4|       0|  1.9656|      2014|          6|\n|     8|CA-2014-115812|2014-06-09|2014-06-14|Standard Class|   BH-11710|   Brosina Hoffman|   Consumer|United States|    Los Angeles|    California|      90032|   West|TEC-PH-10002275|     Technology|     Phones|Mitel 5320 IP Pho...| 907.152|       6|     0.2| 90.7152|      2014|          6|\n|     9|CA-2014-115812|2014-06-09|2014-06-14|Standard Class|   BH-11710|   Brosina Hoffman|   Consumer|United States|    Los Angeles|    California|      90032|   West|OFF-BI-10003910|Office Supplies|    Binders|DXL Angle-View Bi...|  18.504|       3|     0.2|  5.7825|      2014|          6|\n|    10|CA-2014-115812|2014-06-09|2014-06-14|Standard Class|   BH-11710|   Brosina Hoffman|   Consumer|United States|    Los Angeles|    California|      90032|   West|OFF-AP-10002892|Office Supplies| Appliances|Belkin F5C206VTEL...|   114.9|       5|       0|   34.47|      2014|          6|\n|    11|CA-2014-115812|2014-06-09|2014-06-14|Standard Class|   BH-11710|   Brosina Hoffman|   Consumer|United States|    Los Angeles|    California|      90032|   West|FUR-TA-10001539|      Furniture|     Tables|Chromcraft Rectan...|1706.184|       9|     0.2| 85.3092|      2014|          6|\n|    12|CA-2014-115812|2014-06-09|2014-06-14|Standard Class|   BH-11710|   Brosina Hoffman|   Consumer|United States|    Los Angeles|    California|      90032|   West|TEC-PH-10002033|     Technology|     Phones|Konftel 250 Confe...| 911.424|       4|     0.2| 68.3568|      2014|          6|\n|    13|CA-2017-114412|2017-04-15|2017-04-20|Standard Class|   AA-10480|      Andrew Allen|   Consumer|United States|        Concord|North Carolina|      28027|  South|OFF-PA-10002365|Office Supplies|      Paper|          Xerox 1967|  15.552|       3|     0.2|  5.4432|      2017|          4|\n|    14|CA-2016-161389|2016-12-05|2016-12-10|Standard Class|   IM-15070|      Irene Maddox|   Consumer|United States|        Seattle|    Washington|      98103|   West|OFF-BI-10003656|Office Supplies|    Binders|Fellowes PB200 Pl...| 407.976|       3|     0.2|132.5922|      2016|         12|\n|    15|US-2015-118983|2015-11-22|2015-11-26|Standard Class|   HP-14815|     Harold Pawlan|Home Office|United States|     Fort Worth|         Texas|      76106|Central|OFF-AP-10002311|Office Supplies| Appliances|Holmes Replacemen...|   68.81|       5|     0.8|-123.858|      2015|         11|\n|    16|US-2015-118983|2015-11-22|2015-11-26|Standard Class|   HP-14815|     Harold Pawlan|Home Office|United States|     Fort Worth|         Texas|      76106|Central|OFF-BI-10000756|Office Supplies|    Binders|Storex DuraTech R...|   2.544|       3|     0.8|  -3.816|      2015|         11|\n|    17|CA-2014-105893|2014-11-11|2014-11-18|Standard Class|   PK-19075|         Pete Kriz|   Consumer|United States|        Madison|     Wisconsin|      53711|Central|OFF-ST-10004186|Office Supplies|    Storage|\"Stur-D-Stor Shel...|  665.88|       6|       0| 13.3176|      2014|         11|\n|    18|CA-2014-167164|2014-05-13|2014-05-15|  Second Class|   AG-10270|   Alejandro Grove|   Consumer|United States|    West Jordan|          Utah|      84084|   West|OFF-ST-10000107|Office Supplies|    Storage|Fellowes Super St...|    55.5|       2|       0|    9.99|      2014|          5|\n|    19|CA-2014-143336|2014-08-27|2014-09-01|  Second Class|   ZD-21925|Zuschuss Donatelli|   Consumer|United States|  San Francisco|    California|      94109|   West|OFF-AR-10003056|Office Supplies|        Art|          Newell 341|    8.56|       2|       0|  2.4824|      2014|          8|\n|    20|CA-2014-143336|2014-08-27|2014-09-01|  Second Class|   ZD-21925|Zuschuss Donatelli|   Consumer|United States|  San Francisco|    California|      94109|   West|TEC-PH-10001949|     Technology|     Phones|Cisco SPA 501G IP...|  213.48|       3|     0.2|  16.011|      2014|          8|\n+------+--------------+----------+----------+--------------+-----------+------------------+-----------+-------------+---------------+--------------+-----------+-------+---------------+---------------+-----------+--------------------+--------+--------+--------+--------+----------+-----------+\nonly showing top 20 rows\n\n"
     ]
    }
   ],
   "source": [
    "# (Optional) Step 4: Time Travel\n",
    "\n",
    "df_old = spark.read.format(\"delta\").option(\"versionAsOf\", 0).load(\"/tmp/delta_superstore\")\n",
    "df_old.show()\n"
   ]
  },
  {
   "cell_type": "code",
   "execution_count": 0,
   "metadata": {
    "application/vnd.databricks.v1+cell": {
     "cellMetadata": {
      "byteLimit": 2048000,
      "rowLimit": 10000
     },
     "inputWidgets": {},
     "nuid": "d23bff85-f826-4a0d-b194-b058e4573105",
     "showTitle": false,
     "tableResultSettingsMap": {},
     "title": ""
    }
   },
   "outputs": [],
   "source": [
    "# Goal:\n",
    "# Use PySpark and SQL to explore sales trends, and visualize key business metrics.\n",
    "#  Step 1: Load the Delta Table\n",
    "df = spark.read.format(\"delta\").load(\"/tmp/delta_superstore\")\n",
    "df.createOrReplaceTempView(\"superstore\")\n"
   ]
  },
  {
   "cell_type": "code",
   "execution_count": 0,
   "metadata": {
    "application/vnd.databricks.v1+cell": {
     "cellMetadata": {
      "byteLimit": 2048000,
      "rowLimit": 10000
     },
     "inputWidgets": {},
     "nuid": "855bead0-e03e-4e7a-90dc-ee9ed886b1fa",
     "showTitle": false,
     "tableResultSettingsMap": {},
     "title": ""
    }
   },
   "outputs": [
    {
     "output_type": "stream",
     "name": "stdout",
     "output_type": "stream",
     "text": [
      "+------+--------------+----------+----------+--------------+-----------+------------------+-----------+-------------+---------------+--------------+-----------+-------+---------------+---------------+-----------+--------------------+--------+--------+--------+--------+----------+-----------+\n|Row_ID|      Order_ID|Order_Date| Ship_Date|     Ship_Mode|Customer_ID|     Customer_Name|    Segment|      Country|           City|         State|Postal_Code| Region|     Product_ID|       Category|SubCategory|        Product_Name|   Sales|Quantity|Discount|  Profit|Order_Year|Order_Month|\n+------+--------------+----------+----------+--------------+-----------+------------------+-----------+-------------+---------------+--------------+-----------+-------+---------------+---------------+-----------+--------------------+--------+--------+--------+--------+----------+-----------+\n|     1|CA-2016-152156|2016-11-08|2016-11-11|  Second Class|   CG-12520|       Claire Gute|   Consumer|United States|      Henderson|      Kentucky|      42420|  South|FUR-BO-10001798|      Furniture|  Bookcases|Bush Somerset Col...|  261.96|       2|       0| 41.9136|      2016|         11|\n|     2|CA-2016-152156|2016-11-08|2016-11-11|  Second Class|   CG-12520|       Claire Gute|   Consumer|United States|      Henderson|      Kentucky|      42420|  South|FUR-CH-10000454|      Furniture|     Chairs|Hon Deluxe Fabric...|  731.94|       3|       0| 219.582|      2016|         11|\n|     3|CA-2016-138688|2016-06-12|2016-06-16|  Second Class|   DV-13045|   Darrin Van Huff|  Corporate|United States|    Los Angeles|    California|      90036|   West|OFF-LA-10000240|Office Supplies|     Labels|Self-Adhesive Add...|   14.62|       2|       0|  6.8714|      2016|          6|\n|     4|US-2015-108966|2015-10-11|2015-10-18|Standard Class|   SO-20335|    Sean O'Donnell|   Consumer|United States|Fort Lauderdale|       Florida|      33311|  South|FUR-TA-10000577|      Furniture|     Tables|Bretford CR4500 S...|957.5775|       5|    0.45|-383.031|      2015|         10|\n|     5|US-2015-108966|2015-10-11|2015-10-18|Standard Class|   SO-20335|    Sean O'Donnell|   Consumer|United States|Fort Lauderdale|       Florida|      33311|  South|OFF-ST-10000760|Office Supplies|    Storage|Eldon Fold 'N Rol...|  22.368|       2|     0.2|  2.5164|      2015|         10|\n|     6|CA-2014-115812|2014-06-09|2014-06-14|Standard Class|   BH-11710|   Brosina Hoffman|   Consumer|United States|    Los Angeles|    California|      90032|   West|FUR-FU-10001487|      Furniture|Furnishings|Eldon Expressions...|   48.86|       7|       0| 14.1694|      2014|          6|\n|     7|CA-2014-115812|2014-06-09|2014-06-14|Standard Class|   BH-11710|   Brosina Hoffman|   Consumer|United States|    Los Angeles|    California|      90032|   West|OFF-AR-10002833|Office Supplies|        Art|          Newell 322|    7.28|       4|       0|  1.9656|      2014|          6|\n|     8|CA-2014-115812|2014-06-09|2014-06-14|Standard Class|   BH-11710|   Brosina Hoffman|   Consumer|United States|    Los Angeles|    California|      90032|   West|TEC-PH-10002275|     Technology|     Phones|Mitel 5320 IP Pho...| 907.152|       6|     0.2| 90.7152|      2014|          6|\n|     9|CA-2014-115812|2014-06-09|2014-06-14|Standard Class|   BH-11710|   Brosina Hoffman|   Consumer|United States|    Los Angeles|    California|      90032|   West|OFF-BI-10003910|Office Supplies|    Binders|DXL Angle-View Bi...|  18.504|       3|     0.2|  5.7825|      2014|          6|\n|    10|CA-2014-115812|2014-06-09|2014-06-14|Standard Class|   BH-11710|   Brosina Hoffman|   Consumer|United States|    Los Angeles|    California|      90032|   West|OFF-AP-10002892|Office Supplies| Appliances|Belkin F5C206VTEL...|   114.9|       5|       0|   34.47|      2014|          6|\n|    11|CA-2014-115812|2014-06-09|2014-06-14|Standard Class|   BH-11710|   Brosina Hoffman|   Consumer|United States|    Los Angeles|    California|      90032|   West|FUR-TA-10001539|      Furniture|     Tables|Chromcraft Rectan...|1706.184|       9|     0.2| 85.3092|      2014|          6|\n|    12|CA-2014-115812|2014-06-09|2014-06-14|Standard Class|   BH-11710|   Brosina Hoffman|   Consumer|United States|    Los Angeles|    California|      90032|   West|TEC-PH-10002033|     Technology|     Phones|Konftel 250 Confe...| 911.424|       4|     0.2| 68.3568|      2014|          6|\n|    13|CA-2017-114412|2017-04-15|2017-04-20|Standard Class|   AA-10480|      Andrew Allen|   Consumer|United States|        Concord|North Carolina|      28027|  South|OFF-PA-10002365|Office Supplies|      Paper|          Xerox 1967|  15.552|       3|     0.2|  5.4432|      2017|          4|\n|    14|CA-2016-161389|2016-12-05|2016-12-10|Standard Class|   IM-15070|      Irene Maddox|   Consumer|United States|        Seattle|    Washington|      98103|   West|OFF-BI-10003656|Office Supplies|    Binders|Fellowes PB200 Pl...| 407.976|       3|     0.2|132.5922|      2016|         12|\n|    15|US-2015-118983|2015-11-22|2015-11-26|Standard Class|   HP-14815|     Harold Pawlan|Home Office|United States|     Fort Worth|         Texas|      76106|Central|OFF-AP-10002311|Office Supplies| Appliances|Holmes Replacemen...|   68.81|       5|     0.8|-123.858|      2015|         11|\n|    16|US-2015-118983|2015-11-22|2015-11-26|Standard Class|   HP-14815|     Harold Pawlan|Home Office|United States|     Fort Worth|         Texas|      76106|Central|OFF-BI-10000756|Office Supplies|    Binders|Storex DuraTech R...|   2.544|       3|     0.8|  -3.816|      2015|         11|\n|    17|CA-2014-105893|2014-11-11|2014-11-18|Standard Class|   PK-19075|         Pete Kriz|   Consumer|United States|        Madison|     Wisconsin|      53711|Central|OFF-ST-10004186|Office Supplies|    Storage|\"Stur-D-Stor Shel...|  665.88|       6|       0| 13.3176|      2014|         11|\n|    18|CA-2014-167164|2014-05-13|2014-05-15|  Second Class|   AG-10270|   Alejandro Grove|   Consumer|United States|    West Jordan|          Utah|      84084|   West|OFF-ST-10000107|Office Supplies|    Storage|Fellowes Super St...|    55.5|       2|       0|    9.99|      2014|          5|\n|    19|CA-2014-143336|2014-08-27|2014-09-01|  Second Class|   ZD-21925|Zuschuss Donatelli|   Consumer|United States|  San Francisco|    California|      94109|   West|OFF-AR-10003056|Office Supplies|        Art|          Newell 341|    8.56|       2|       0|  2.4824|      2014|          8|\n|    20|CA-2014-143336|2014-08-27|2014-09-01|  Second Class|   ZD-21925|Zuschuss Donatelli|   Consumer|United States|  San Francisco|    California|      94109|   West|TEC-PH-10001949|     Technology|     Phones|Cisco SPA 501G IP...|  213.48|       3|     0.2|  16.011|      2014|          8|\n+------+--------------+----------+----------+--------------+-----------+------------------+-----------+-------------+---------------+--------------+-----------+-------+---------------+---------------+-----------+--------------------+--------+--------+--------+--------+----------+-----------+\nonly showing top 20 rows\n\n"
     ]
    }
   ],
   "source": [
    "df = spark.read.format(\"delta\").load(\"/tmp/delta_superstore\")\n",
    "df.createOrReplaceTempView(\"superstore\")\n",
    "df.show()"
   ]
  },
  {
   "cell_type": "code",
   "execution_count": 0,
   "metadata": {
    "application/vnd.databricks.v1+cell": {
     "cellMetadata": {
      "byteLimit": 2048000,
      "rowLimit": 10000
     },
     "inputWidgets": {},
     "nuid": "2ac55f1f-3ce2-4b31-8db7-7bf5949c03ba",
     "showTitle": false,
     "tableResultSettingsMap": {},
     "title": ""
    }
   },
   "outputs": [
    {
     "output_type": "stream",
     "name": "stdout",
     "output_type": "stream",
     "text": [
      "root\n |-- Row_ID: integer (nullable = true)\n |-- Order_ID: string (nullable = true)\n |-- Order_Date: date (nullable = true)\n |-- Ship_Date: date (nullable = true)\n |-- Ship_Mode: string (nullable = true)\n |-- Customer_ID: string (nullable = true)\n |-- Customer_Name: string (nullable = true)\n |-- Segment: string (nullable = true)\n |-- Country: string (nullable = true)\n |-- City: string (nullable = true)\n |-- State: string (nullable = true)\n |-- Postal_Code: integer (nullable = true)\n |-- Region: string (nullable = true)\n |-- Product_ID: string (nullable = true)\n |-- Category: string (nullable = true)\n |-- SubCategory: string (nullable = true)\n |-- Product_Name: string (nullable = true)\n |-- Sales: string (nullable = true)\n |-- Quantity: string (nullable = true)\n |-- Discount: string (nullable = true)\n |-- Profit: double (nullable = true)\n |-- Order_Year: integer (nullable = true)\n |-- Order_Month: integer (nullable = true)\n\n+------+--------------+----------+----------+------------+-----------+---------------+---------+-------------+-----------+----------+-----------+------+---------------+---------------+-----------+--------------------+------+--------+--------+-------+----------+-----------+\n|Row_ID|      Order_ID|Order_Date| Ship_Date|   Ship_Mode|Customer_ID|  Customer_Name|  Segment|      Country|       City|     State|Postal_Code|Region|     Product_ID|       Category|SubCategory|        Product_Name| Sales|Quantity|Discount| Profit|Order_Year|Order_Month|\n+------+--------------+----------+----------+------------+-----------+---------------+---------+-------------+-----------+----------+-----------+------+---------------+---------------+-----------+--------------------+------+--------+--------+-------+----------+-----------+\n|     1|CA-2016-152156|2016-11-08|2016-11-11|Second Class|   CG-12520|    Claire Gute| Consumer|United States|  Henderson|  Kentucky|      42420| South|FUR-BO-10001798|      Furniture|  Bookcases|Bush Somerset Col...|261.96|       2|       0|41.9136|      2016|         11|\n|     2|CA-2016-152156|2016-11-08|2016-11-11|Second Class|   CG-12520|    Claire Gute| Consumer|United States|  Henderson|  Kentucky|      42420| South|FUR-CH-10000454|      Furniture|     Chairs|Hon Deluxe Fabric...|731.94|       3|       0|219.582|      2016|         11|\n|     3|CA-2016-138688|2016-06-12|2016-06-16|Second Class|   DV-13045|Darrin Van Huff|Corporate|United States|Los Angeles|California|      90036|  West|OFF-LA-10000240|Office Supplies|     Labels|Self-Adhesive Add...| 14.62|       2|       0| 6.8714|      2016|          6|\n+------+--------------+----------+----------+------------+-----------+---------------+---------+-------------+-----------+----------+-----------+------+---------------+---------------+-----------+--------------------+------+--------+--------+-------+----------+-----------+\nonly showing top 3 rows\n\n"
     ]
    }
   ],
   "source": [
    "df = spark.read.format(\"delta\").load(\"/tmp/delta_superstore\")\n",
    "df.printSchema()\n",
    "\n",
    "df.createOrReplaceTempView(\"superstore\")\n",
    "df.show(3)"
   ]
  },
  {
   "cell_type": "code",
   "execution_count": 0,
   "metadata": {
    "application/vnd.databricks.v1+cell": {
     "cellMetadata": {
      "byteLimit": 2048000,
      "implicitDf": true,
      "rowLimit": 10000
     },
     "inputWidgets": {},
     "nuid": "b75474b3-3b5f-455a-a445-8152bb1645a2",
     "showTitle": false,
     "tableResultSettingsMap": {},
     "title": ""
    }
   },
   "outputs": [
    {
     "output_type": "display_data",
     "data": {
      "text/html": [
       "<style scoped>\n",
       "  .table-result-container {\n",
       "    max-height: 300px;\n",
       "    overflow: auto;\n",
       "  }\n",
       "  table, th, td {\n",
       "    border: 1px solid black;\n",
       "    border-collapse: collapse;\n",
       "  }\n",
       "  th, td {\n",
       "    padding: 5px;\n",
       "  }\n",
       "  th {\n",
       "    text-align: left;\n",
       "  }\n",
       "</style><div class='table-result-container'><table class='table-result'><thead style='background-color: white'><tr><th>Row_ID</th><th>Order_ID</th><th>Order_Date</th><th>Ship_Date</th><th>Ship_Mode</th><th>Customer_ID</th><th>Customer_Name</th><th>Segment</th><th>Country</th><th>City</th><th>State</th><th>Postal_Code</th><th>Region</th><th>Product_ID</th><th>Category</th><th>SubCategory</th><th>Product_Name</th><th>Sales</th><th>Quantity</th><th>Discount</th><th>Profit</th><th>Order_Year</th><th>Order_Month</th></tr></thead><tbody><tr><td>1</td><td>CA-2016-152156</td><td>2016-11-08</td><td>2016-11-11</td><td>Second Class</td><td>CG-12520</td><td>Claire Gute</td><td>Consumer</td><td>United States</td><td>Henderson</td><td>Kentucky</td><td>42420</td><td>South</td><td>FUR-BO-10001798</td><td>Furniture</td><td>Bookcases</td><td>Bush Somerset Collection Bookcase</td><td>261.96</td><td>2</td><td>0</td><td>41.9136</td><td>2016</td><td>11</td></tr><tr><td>2</td><td>CA-2016-152156</td><td>2016-11-08</td><td>2016-11-11</td><td>Second Class</td><td>CG-12520</td><td>Claire Gute</td><td>Consumer</td><td>United States</td><td>Henderson</td><td>Kentucky</td><td>42420</td><td>South</td><td>FUR-CH-10000454</td><td>Furniture</td><td>Chairs</td><td>Hon Deluxe Fabric Upholstered Stacking Chairs, Rounded Back</td><td>731.94</td><td>3</td><td>0</td><td>219.582</td><td>2016</td><td>11</td></tr><tr><td>3</td><td>CA-2016-138688</td><td>2016-06-12</td><td>2016-06-16</td><td>Second Class</td><td>DV-13045</td><td>Darrin Van Huff</td><td>Corporate</td><td>United States</td><td>Los Angeles</td><td>California</td><td>90036</td><td>West</td><td>OFF-LA-10000240</td><td>Office Supplies</td><td>Labels</td><td>Self-Adhesive Address Labels for Typewriters by Universal</td><td>14.62</td><td>2</td><td>0</td><td>6.8714</td><td>2016</td><td>6</td></tr><tr><td>4</td><td>US-2015-108966</td><td>2015-10-11</td><td>2015-10-18</td><td>Standard Class</td><td>SO-20335</td><td>Sean O'Donnell</td><td>Consumer</td><td>United States</td><td>Fort Lauderdale</td><td>Florida</td><td>33311</td><td>South</td><td>FUR-TA-10000577</td><td>Furniture</td><td>Tables</td><td>Bretford CR4500 Series Slim Rectangular Table</td><td>957.5775</td><td>5</td><td>0.45</td><td>-383.031</td><td>2015</td><td>10</td></tr><tr><td>5</td><td>US-2015-108966</td><td>2015-10-11</td><td>2015-10-18</td><td>Standard Class</td><td>SO-20335</td><td>Sean O'Donnell</td><td>Consumer</td><td>United States</td><td>Fort Lauderdale</td><td>Florida</td><td>33311</td><td>South</td><td>OFF-ST-10000760</td><td>Office Supplies</td><td>Storage</td><td>Eldon Fold 'N Roll Cart System</td><td>22.368</td><td>2</td><td>0.2</td><td>2.5164</td><td>2015</td><td>10</td></tr></tbody></table></div>"
      ]
     },
     "metadata": {
      "application/vnd.databricks.v1+output": {
       "addedWidgets": {},
       "aggData": [],
       "aggError": "",
       "aggOverflow": false,
       "aggSchema": [],
       "aggSeriesLimitReached": false,
       "aggType": "",
       "arguments": {},
       "columnCustomDisplayInfos": {},
       "data": [
        [
         1,
         "CA-2016-152156",
         "2016-11-08",
         "2016-11-11",
         "Second Class",
         "CG-12520",
         "Claire Gute",
         "Consumer",
         "United States",
         "Henderson",
         "Kentucky",
         42420,
         "South",
         "FUR-BO-10001798",
         "Furniture",
         "Bookcases",
         "Bush Somerset Collection Bookcase",
         "261.96",
         "2",
         "0",
         41.9136,
         2016,
         11
        ],
        [
         2,
         "CA-2016-152156",
         "2016-11-08",
         "2016-11-11",
         "Second Class",
         "CG-12520",
         "Claire Gute",
         "Consumer",
         "United States",
         "Henderson",
         "Kentucky",
         42420,
         "South",
         "FUR-CH-10000454",
         "Furniture",
         "Chairs",
         "Hon Deluxe Fabric Upholstered Stacking Chairs, Rounded Back",
         "731.94",
         "3",
         "0",
         219.582,
         2016,
         11
        ],
        [
         3,
         "CA-2016-138688",
         "2016-06-12",
         "2016-06-16",
         "Second Class",
         "DV-13045",
         "Darrin Van Huff",
         "Corporate",
         "United States",
         "Los Angeles",
         "California",
         90036,
         "West",
         "OFF-LA-10000240",
         "Office Supplies",
         "Labels",
         "Self-Adhesive Address Labels for Typewriters by Universal",
         "14.62",
         "2",
         "0",
         6.8714,
         2016,
         6
        ],
        [
         4,
         "US-2015-108966",
         "2015-10-11",
         "2015-10-18",
         "Standard Class",
         "SO-20335",
         "Sean O'Donnell",
         "Consumer",
         "United States",
         "Fort Lauderdale",
         "Florida",
         33311,
         "South",
         "FUR-TA-10000577",
         "Furniture",
         "Tables",
         "Bretford CR4500 Series Slim Rectangular Table",
         "957.5775",
         "5",
         "0.45",
         -383.031,
         2015,
         10
        ],
        [
         5,
         "US-2015-108966",
         "2015-10-11",
         "2015-10-18",
         "Standard Class",
         "SO-20335",
         "Sean O'Donnell",
         "Consumer",
         "United States",
         "Fort Lauderdale",
         "Florida",
         33311,
         "South",
         "OFF-ST-10000760",
         "Office Supplies",
         "Storage",
         "Eldon Fold 'N Roll Cart System",
         "22.368",
         "2",
         "0.2",
         2.5164,
         2015,
         10
        ]
       ],
       "datasetInfos": [],
       "dbfsResultPath": null,
       "isJsonSchema": true,
       "metadata": {},
       "overflow": false,
       "plotOptions": {
        "customPlotOptions": {},
        "displayType": "table",
        "pivotAggregation": null,
        "pivotColumns": null,
        "xColumns": null,
        "yColumns": null
       },
       "removedWidgets": [],
       "schema": [
        {
         "metadata": "{}",
         "name": "Row_ID",
         "type": "\"integer\""
        },
        {
         "metadata": "{}",
         "name": "Order_ID",
         "type": "\"string\""
        },
        {
         "metadata": "{}",
         "name": "Order_Date",
         "type": "\"date\""
        },
        {
         "metadata": "{\"__detected_date_formats\":\"M/d/yyyy\"}",
         "name": "Ship_Date",
         "type": "\"date\""
        },
        {
         "metadata": "{}",
         "name": "Ship_Mode",
         "type": "\"string\""
        },
        {
         "metadata": "{}",
         "name": "Customer_ID",
         "type": "\"string\""
        },
        {
         "metadata": "{}",
         "name": "Customer_Name",
         "type": "\"string\""
        },
        {
         "metadata": "{}",
         "name": "Segment",
         "type": "\"string\""
        },
        {
         "metadata": "{}",
         "name": "Country",
         "type": "\"string\""
        },
        {
         "metadata": "{}",
         "name": "City",
         "type": "\"string\""
        },
        {
         "metadata": "{}",
         "name": "State",
         "type": "\"string\""
        },
        {
         "metadata": "{}",
         "name": "Postal_Code",
         "type": "\"integer\""
        },
        {
         "metadata": "{}",
         "name": "Region",
         "type": "\"string\""
        },
        {
         "metadata": "{}",
         "name": "Product_ID",
         "type": "\"string\""
        },
        {
         "metadata": "{}",
         "name": "Category",
         "type": "\"string\""
        },
        {
         "metadata": "{}",
         "name": "SubCategory",
         "type": "\"string\""
        },
        {
         "metadata": "{}",
         "name": "Product_Name",
         "type": "\"string\""
        },
        {
         "metadata": "{}",
         "name": "Sales",
         "type": "\"string\""
        },
        {
         "metadata": "{}",
         "name": "Quantity",
         "type": "\"string\""
        },
        {
         "metadata": "{}",
         "name": "Discount",
         "type": "\"string\""
        },
        {
         "metadata": "{}",
         "name": "Profit",
         "type": "\"double\""
        },
        {
         "metadata": "{}",
         "name": "Order_Year",
         "type": "\"integer\""
        },
        {
         "metadata": "{}",
         "name": "Order_Month",
         "type": "\"integer\""
        }
       ],
       "type": "table"
      }
     },
     "output_type": "display_data"
    }
   ],
   "source": [
    "%sql\n",
    "SELECT * FROM superstore LIMIT 5\n"
   ]
  },
  {
   "cell_type": "code",
   "execution_count": 0,
   "metadata": {
    "application/vnd.databricks.v1+cell": {
     "cellMetadata": {
      "byteLimit": 2048000,
      "implicitDf": true,
      "rowLimit": 10000
     },
     "inputWidgets": {},
     "nuid": "348b9a19-dcdc-4b0b-b57a-bd9394994968",
     "showTitle": false,
     "tableResultSettingsMap": {},
     "title": ""
    }
   },
   "outputs": [
    {
     "output_type": "display_data",
     "data": {
      "text/html": [
       "<style scoped>\n",
       "  .table-result-container {\n",
       "    max-height: 300px;\n",
       "    overflow: auto;\n",
       "  }\n",
       "  table, th, td {\n",
       "    border: 1px solid black;\n",
       "    border-collapse: collapse;\n",
       "  }\n",
       "  th, td {\n",
       "    padding: 5px;\n",
       "  }\n",
       "  th {\n",
       "    text-align: left;\n",
       "  }\n",
       "</style><div class='table-result-container'><table class='table-result'><thead style='background-color: white'><tr><th>Category</th><th>TotalSales</th></tr></thead><tbody><tr><td>Technology</td><td>835900.07</td></tr><tr><td>Furniture</td><td>733046.86</td></tr><tr><td>Office Supplies</td><td>703502.93</td></tr></tbody></table></div>"
      ]
     },
     "metadata": {
      "application/vnd.databricks.v1+output": {
       "addedWidgets": {},
       "aggData": [],
       "aggError": "",
       "aggOverflow": false,
       "aggSchema": [],
       "aggSeriesLimitReached": false,
       "aggType": "",
       "arguments": {},
       "columnCustomDisplayInfos": {},
       "data": [
        [
         "Technology",
         835900.07
        ],
        [
         "Furniture",
         733046.86
        ],
        [
         "Office Supplies",
         703502.93
        ]
       ],
       "datasetInfos": [],
       "dbfsResultPath": null,
       "isJsonSchema": true,
       "metadata": {},
       "overflow": false,
       "plotOptions": {
        "customPlotOptions": {},
        "displayType": "table",
        "pivotAggregation": null,
        "pivotColumns": null,
        "xColumns": null,
        "yColumns": null
       },
       "removedWidgets": [],
       "schema": [
        {
         "metadata": "{}",
         "name": "Category",
         "type": "\"string\""
        },
        {
         "metadata": "{}",
         "name": "TotalSales",
         "type": "\"double\""
        }
       ],
       "type": "table"
      }
     },
     "output_type": "display_data"
    }
   ],
   "source": [
    "%sql\n",
    "SELECT Category, ROUND(SUM(Sales), 2) AS TotalSales\n",
    "FROM superstore\n",
    "GROUP BY Category\n",
    "ORDER BY TotalSales DESC\n"
   ]
  }
 ],
 "metadata": {
  "application/vnd.databricks.v1+notebook": {
   "computePreferences": null,
   "dashboards": [],
   "environmentMetadata": {
    "base_environment": "",
    "environment_version": "1"
   },
   "inputWidgetPreferences": null,
   "language": "python",
   "notebookMetadata": {
    "mostRecentlyExecutedCommandWithImplicitDF": {
     "commandId": 3427704902088131,
     "dataframes": [
      "_sqldf"
     ]
    },
    "pythonIndentUnit": 4
   },
   "notebookName": "Retail_Data_Lakehouse_on_Databricks",
   "widgets": {}
  }
 },
 "nbformat": 4,
 "nbformat_minor": 0
}